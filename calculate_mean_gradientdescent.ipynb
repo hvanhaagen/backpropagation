{
 "cells": [
  {
   "cell_type": "code",
   "execution_count": 25,
   "id": "33f89240",
   "metadata": {},
   "outputs": [],
   "source": [
    "import numpy as np\n",
    "import matplotlib.pyplot as plt"
   ]
  },
  {
   "cell_type": "code",
   "execution_count": 27,
   "id": "3d707df6",
   "metadata": {},
   "outputs": [],
   "source": [
    "numbers = [8, 5, 4, 8, 3, 6, 3, 3, 1, 8, 7, 1, 6, 8, 7, 4, 6, 4, 4, 3]"
   ]
  },
  {
   "cell_type": "code",
   "execution_count": 28,
   "id": "ad17875c",
   "metadata": {},
   "outputs": [
    {
     "name": "stdout",
     "output_type": "stream",
     "text": [
      "4.95\n"
     ]
    }
   ],
   "source": [
    "print(np.mean(numbers))"
   ]
  },
  {
   "cell_type": "code",
   "execution_count": 29,
   "id": "42db9e2a",
   "metadata": {},
   "outputs": [],
   "source": [
    "average = 100\n",
    "lr = 0.1\n",
    "epoch = 10\n",
    "\n",
    "trainresults = []\n",
    "\n",
    "for m in range(epoch):\n",
    "    \n",
    "    for number in numbers:\n",
    "    \n",
    "        error = average-number\n",
    "        average = average - error*lr\n",
    "        \n",
    "        trainresults += [average]"
   ]
  },
  {
   "cell_type": "code",
   "execution_count": 30,
   "id": "983806b0",
   "metadata": {},
   "outputs": [
    {
     "data": {
      "text/plain": [
       "[<matplotlib.lines.Line2D at 0x7fac8d967ca0>]"
      ]
     },
     "execution_count": 30,
     "metadata": {},
     "output_type": "execute_result"
    },
    {
     "data": {
      "image/png": "[encoded data removed]",
      "text/plain": [
       "<Figure size 640x480 with 1 Axes>"
      ]
     },
     "metadata": {},
     "output_type": "display_data"
    }
   ],
   "source": [
    "plt.plot(trainresults)"
   ]
  },
  {
   "cell_type": "code",
   "execution_count": 31,
   "id": "74267f1f",
   "metadata": {},
   "outputs": [
    {
     "name": "stdout",
     "output_type": "stream",
     "text": [
      "4.95\n",
      "4.77213819855007\n"
     ]
    }
   ],
   "source": [
    "print(np.mean(numbers))\n",
    "print(average)"
   ]
  },
  {
   "cell_type": "code",
   "execution_count": 32,
   "id": "5a93e932",
   "metadata": {},
   "outputs": [
    {
     "data": {
      "text/plain": [
       "[90.8,\n",
       " 82.22,\n",
       " 74.398,\n",
       " 67.7582,\n",
       " 61.28238,\n",
       " 55.754142,\n",
       " 50.4787278,\n",
       " 45.73085502,\n",
       " 41.257769518,\n",
       " 37.9319925662,\n",
       " 34.83879330958,\n",
       " 31.454913978622,\n",
       " 28.9094225807598,\n",
       " 26.81848032268382,\n",
       " 24.836632290415437,\n",
       " 22.752969061373893,\n",
       " 21.077672155236503,\n",
       " 19.369904939712853,\n",
       " 17.83291444574157,\n",
       " 16.349623001167412,\n",
       " 15.514660701050671,\n",
       " 14.463194630945605,\n",
       " 13.416875167851044,\n",
       " 12.87518765106594,\n",
       " 11.887668885959345,\n",
       " 11.29890199736341,\n",
       " 10.469011797627068,\n",
       " 9.722110617864361,\n",
       " 8.849899556077926,\n",
       " 8.764909600470133,\n",
       " 8.58841864042312,\n",
       " 7.829576776380808,\n",
       " 7.646619098742727,\n",
       " 7.681957188868455,\n",
       " 7.613761469981609,\n",
       " 7.252385322983448,\n",
       " 7.127146790685104,\n",
       " 6.814432111616593,\n",
       " 6.532988900454934,\n",
       " 6.179690010409441,\n",
       " 6.361721009368497,\n",
       " 6.225548908431648,\n",
       " 6.002994017588483,\n",
       " 6.2026946158296346,\n",
       " 5.882425154246671,\n",
       " 5.894182638822004,\n",
       " 5.604764374939804,\n",
       " 5.344287937445824,\n",
       " 4.909859143701241,\n",
       " 5.218873229331117,\n",
       " 5.3969859063980055,\n",
       " 4.9572873157582045,\n",
       " 5.061558584182384,\n",
       " 5.355402725764145,\n",
       " 5.519862453187731,\n",
       " 5.3678762078689575,\n",
       " 5.431088587082062,\n",
       " 5.287979728373855,\n",
       " 5.15918175553647,\n",
       " 4.943263579982823,\n",
       " 5.248937221984541,\n",
       " 5.224043499786086,\n",
       " 5.101639149807478,\n",
       " 5.39147523482673,\n",
       " 5.152327711344057,\n",
       " 5.237094940209651,\n",
       " 5.013385446188686,\n",
       " 4.8120469015698175,\n",
       " 4.430842211412836,\n",
       " 4.787757990271552,\n",
       " 5.008982191244397,\n",
       " 4.608083972119957,\n",
       " 4.747275574907961,\n",
       " 5.072548017417165,\n",
       " 5.265293215675449,\n",
       " 5.138763894107904,\n",
       " 5.224887504697113,\n",
       " 5.102398754227402,\n",
       " 4.992158878804662,\n",
       " 4.792942990924196,\n",
       " 5.113648691831776,\n",
       " 5.102283822648599,\n",
       " 4.992055440383739,\n",
       " 5.292849896345365,\n",
       " 5.063564906710829,\n",
       " 5.157208416039746,\n",
       " 4.941487574435771,\n",
       " 4.747338816992194,\n",
       " 4.372604935292975,\n",
       " 4.735344441763677,\n",
       " 4.961809997587309,\n",
       " 4.565628997828578,\n",
       " 4.709066098045721,\n",
       " 5.038159488241149,\n",
       " 5.234343539417035,\n",
       " 5.1109091854753315,\n",
       " 5.199818266927799,\n",
       " 5.0798364402350185,\n",
       " 4.971852796211516,\n",
       " 4.774667516590365,\n",
       " 5.097200764931329,\n",
       " 5.0874806884381965,\n",
       " 4.978732619594377,\n",
       " 5.280859357634939,\n",
       " 5.052773421871445,\n",
       " 5.1474960796843,\n",
       " 4.932746471715871,\n",
       " 4.7394718245442835,\n",
       " 4.365524642089855,\n",
       " 4.72897217788087,\n",
       " 4.956074960092783,\n",
       " 4.560467464083505,\n",
       " 4.704420717675155,\n",
       " 5.03397864590764,\n",
       " 5.230580781316876,\n",
       " 5.107522703185189,\n",
       " 5.1967704328666695,\n",
       " 5.077093389580003,\n",
       " 4.969384050622002,\n",
       " 4.772445645559802,\n",
       " 5.095201081003822,\n",
       " 5.08568097290344,\n",
       " 4.977112875613096,\n",
       " 5.279401588051786,\n",
       " 5.051461429246608,\n",
       " 5.146315286321947,\n",
       " 4.931683757689752,\n",
       " 4.738515381920777,\n",
       " 4.3646638437286995,\n",
       " 4.72819745935583,\n",
       " 4.955377713420247,\n",
       " 4.559839942078222,\n",
       " 4.7038559478704,\n",
       " 5.03347035308336,\n",
       " 5.230123317775024,\n",
       " 5.1071109859975214,\n",
       " 5.196399887397769,\n",
       " 5.0767598986579925,\n",
       " 4.969083908792193,\n",
       " 4.772175517912974,\n",
       " 5.094957966121676,\n",
       " 5.085462169509508,\n",
       " 4.976915952558557,\n",
       " 5.279224357302701,\n",
       " 5.051301921572431,\n",
       " 5.1461717294151885,\n",
       " 4.93155455647367,\n",
       " 4.738399100826303,\n",
       " 4.364559190743673,\n",
       " 4.728103271669306,\n",
       " 4.955292944502375,\n",
       " 4.559763650052138,\n",
       " 4.703787285046924,\n",
       " 5.0334085565422315,\n",
       " 5.230067700888008,\n",
       " 5.107060930799207,\n",
       " 5.196354837719286,\n",
       " 5.076719353947357,\n",
       " 4.969047418552622,\n",
       " 4.772142676697359,\n",
       " 5.094928409027624,\n",
       " 5.085435568124861,\n",
       " 4.976892011312375,\n",
       " 5.279202810181138,\n",
       " 5.051282529163024,\n",
       " 5.146154276246722,\n",
       " 4.93153884862205,\n",
       " 4.738384963759845,\n",
       " 4.36454646738386,\n",
       " 4.728091820645474,\n",
       " 4.955282638580927,\n",
       " 4.559754374722835,\n",
       " 4.703778937250552,\n",
       " 5.0334010435254966,\n",
       " 5.230060939172947,\n",
       " 5.107054845255653,\n",
       " 5.196349360730087,\n",
       " 5.076714424657078,\n",
       " 4.969042982191371,\n",
       " 4.7721386839722335,\n",
       " 5.09492481557501,\n",
       " 5.085432334017509,\n",
       " 4.976889100615757,\n",
       " 5.279200190554182,\n",
       " 5.051280171498764,\n",
       " 5.146152154348887,\n",
       " 4.9315369389139985,\n",
       " 4.7383832450225984,\n",
       " 4.364544920520339,\n",
       " 4.728090428468304,\n",
       " 4.955281385621474,\n",
       " 4.5597532470593265,\n",
       " 4.703777922353394,\n",
       " 5.033400130118054,\n",
       " 5.230060117106249,\n",
       " 5.107054105395624,\n",
       " 5.196348694856062,\n",
       " 5.076713825370456,\n",
       " 4.969042442833411,\n",
       " 4.77213819855007]"
      ]
     },
     "execution_count": 32,
     "metadata": {},
     "output_type": "execute_result"
    }
   ],
   "source": [
    "trainresults"
   ]
  },
  {
   "cell_type": "code",
   "execution_count": null,
   "id": "423143e4",
   "metadata": {},
   "outputs": [],
   "source": []
  }
 ],
 "metadata": {
  "kernelspec": {
   "display_name": "Python 3 (ipykernel)",
   "language": "python",
   "name": "python3"
  },
  "language_info": {
   "codemirror_mode": {
    "name": "ipython",
    "version": 3
   },
   "file_extension": ".py",
   "mimetype": "text/x-python",
   "name": "python",
   "nbconvert_exporter": "python",
   "pygments_lexer": "ipython3",
   "version": "3.10.10"
  }
 },
 "nbformat": 4,
 "nbformat_minor": 5
}
