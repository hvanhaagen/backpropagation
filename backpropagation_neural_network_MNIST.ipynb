{
 "cells": [
  {
   "cell_type": "code",
   "execution_count": 33,
   "metadata": {},
   "outputs": [],
   "source": [
    "# Written by Herman van Haagen. https://www.linkedin.com/in/hermanvanhaagen/"
   ]
  },
  {
   "cell_type": "markdown",
   "metadata": {},
   "source": [
    "# Neural network backpropagation using the MNIST dataset"
   ]
  },
  {
   "cell_type": "code",
   "execution_count": 34,
   "metadata": {},
   "outputs": [],
   "source": [
    "import numpy as np\n",
    "import pandas as pd\n",
    "import matplotlib.pyplot as plt "
   ]
  },
  {
   "cell_type": "markdown",
   "metadata": {},
   "source": [
    "### Functions\n",
    "First we are going to define a couple of functions. These functions make the main code (neural network) more readable. "
   ]
  },
  {
   "cell_type": "code",
   "execution_count": 35,
   "metadata": {},
   "outputs": [],
   "source": [
    "# the onehone encoding function. For instance a 2 becomes [0,0,1,0,0,0,0,0,0,0]\n",
    "def onehotencoding(x):\n",
    "    onehot = np.zeros(10)\n",
    "    onehot[x] = 1\n",
    "    onehot = onehot[:,np.newaxis]\n",
    "    return onehot"
   ]
  },
  {
   "cell_type": "code",
   "execution_count": 36,
   "metadata": {},
   "outputs": [],
   "source": [
    "# The softmax activation function\n",
    "def softmax(x):\n",
    "    y = np.exp(x)/np.sum(np.exp(x))\n",
    "    return y"
   ]
  },
  {
   "cell_type": "code",
   "execution_count": 37,
   "metadata": {},
   "outputs": [],
   "source": [
    "def selectInstance(dataset, index):\n",
    "    # For stochastic gradient descent select one instance at a time. \n",
    "    # also the original data is in the range [0,255]. \n",
    "    # This needs to be scaled between [0,1]\n",
    "    X = dataset[index,:]\n",
    "    X = X[:,np.newaxis]\n",
    "    X = X/255\n",
    "    return X"
   ]
  },
  {
   "cell_type": "markdown",
   "metadata": {},
   "source": [
    "### Loading the data\n",
    "We are going to load the MNIST dataset https://www.kaggle.com/datasets/oddrationale/mnist-in-csv. Download this dataset first. "
   ]
  },
  {
   "cell_type": "code",
   "execution_count": 38,
   "metadata": {},
   "outputs": [],
   "source": [
    "train = pd.read_csv(\"mnist_train.csv\")\n",
    "test = pd.read_csv(\"mnist_test.csv\")"
   ]
  },
  {
   "cell_type": "code",
   "execution_count": 39,
   "metadata": {},
   "outputs": [
    {
     "name": "stdout",
     "output_type": "stream",
     "text": [
      "(60000, 785)\n",
      "(10000, 785)\n"
     ]
    }
   ],
   "source": [
    "# Check for convenience the data if it is correct\n",
    "print(train.shape)\n",
    "print(test.shape)"
   ]
  },
  {
   "cell_type": "code",
   "execution_count": 40,
   "metadata": {},
   "outputs": [],
   "source": [
    "# We are going to put the labels and the data in separate variables\n",
    "train = np.array(train)\n",
    "test = np.array(test)\n",
    "\n",
    "train_images = train[:, 1:785]\n",
    "train_labels = train[:, 0]\n",
    "\n",
    "test_images = test[:, 1:785]\n",
    "test_labels = test[:, 0]"
   ]
  },
  {
   "cell_type": "code",
   "execution_count": 41,
   "metadata": {},
   "outputs": [
    {
     "name": "stdout",
     "output_type": "stream",
     "text": [
      "3\n"
     ]
    },
    {
     "data": {
      "image/png": "[encoded data removed]",
      "text/plain": [
       "<Figure size 640x480 with 1 Axes>"
      ]
     },
     "metadata": {},
     "output_type": "display_data"
    }
   ],
   "source": [
    "# Check for convenience if an instance of the data represents a handwritten digit. \n",
    "index = 50\n",
    "cijfer = train_images[index, :]\n",
    "w = cijfer.reshape(28,28)\n",
    "plt.imshow(w)\n",
    "print(train_labels[index])"
   ]
  },
  {
   "cell_type": "markdown",
   "metadata": {},
   "source": [
    "### Training the neural network\n",
    "For training the neural network we first have to initialize weights and bias. \n",
    "We make use of matrix notation. Pay special attention to the softmax function and its derivative which is very simple. Also pay special attention to the transpose of the vector X. This is needed to get the dimensions right during matrix multiplication. "
   ]
  },
  {
   "cell_type": "code",
   "execution_count": 42,
   "metadata": {},
   "outputs": [],
   "source": [
    "# initialize the weights and the bias\n",
    "W = np.random.rand(10,784)\n",
    "B = np.random.rand(10,1)"
   ]
  },
  {
   "cell_type": "code",
   "execution_count": 43,
   "metadata": {},
   "outputs": [],
   "source": [
    "lr = 0.01 # learning rate\n",
    "epochs = 10"
   ]
  },
  {
   "cell_type": "code",
   "execution_count": 44,
   "metadata": {},
   "outputs": [
    {
     "name": "stdout",
     "output_type": "stream",
     "text": [
      "epoch: 0\n",
      "epoch: 1\n",
      "epoch: 2\n",
      "epoch: 3\n",
      "epoch: 4\n",
      "epoch: 5\n",
      "epoch: 6\n",
      "epoch: 7\n",
      "epoch: 8\n",
      "epoch: 9\n",
      "epoch: 10\n",
      "epoch: 11\n",
      "epoch: 12\n",
      "epoch: 13\n",
      "epoch: 14\n",
      "epoch: 15\n",
      "epoch: 16\n",
      "epoch: 17\n",
      "epoch: 18\n",
      "epoch: 19\n"
     ]
    }
   ],
   "source": [
    "for epoch in range(epochs):\n",
    "    print('epoch: '+str(epoch))\n",
    "    for k in range(60000):\n",
    "        \n",
    "        # Forward pass\n",
    "        X = selectInstance(train_images, k )\n",
    "        z = np.matmul(W,X) + B\n",
    "        y = softmax(z)\n",
    "        \n",
    "        # Backpropagation\n",
    "        label = train_labels[k]\n",
    "        onehot = onehotencoding(label)\n",
    "        error = (y-onehot) # the nice derivative of the softmax\n",
    "        \n",
    "        deltaW = np.matmul(error,np.transpose(X))\n",
    "        deltaB = error\n",
    "        \n",
    "        # update rules\n",
    "        W = W - lr*deltaW\n",
    "        B = B - lr*deltaB"
   ]
  },
  {
   "cell_type": "markdown",
   "metadata": {},
   "source": [
    "### Validate the trained neural network on the testset"
   ]
  },
  {
   "cell_type": "code",
   "execution_count": 45,
   "metadata": {},
   "outputs": [],
   "source": [
    "confusionmatrix = np.zeros([10, 10], dtype = int)"
   ]
  },
  {
   "cell_type": "code",
   "execution_count": 46,
   "metadata": {},
   "outputs": [],
   "source": [
    "# Calculate the predictions on the test set\n",
    "for k in range(10000):\n",
    "    \n",
    "    X = selectInstance(test_images, k )\n",
    "    z = np.matmul(W,X) + B\n",
    "    y = softmax(z)\n",
    "\n",
    "    label = test_labels[k]\n",
    "    onehot = onehotencoding(label)\n",
    "\n",
    "    ind  = np.argmax(onehot)\n",
    "    pred = np.argmax(y)\n",
    "    confusionmatrix[pred, ind] = confusionmatrix[pred, ind] + 1"
   ]
  },
  {
   "cell_type": "code",
   "execution_count": 47,
   "metadata": {},
   "outputs": [
    {
     "name": "stdout",
     "output_type": "stream",
     "text": [
      "[[ 963    0    8    5    1    8   11    1    8    7]\n",
      " [   0 1117   23    1    3    2    3   12   17    8]\n",
      " [   1    3  883   13    5    1    7   22    5    1]\n",
      " [   2    1   43  922    2   30    2   12   43   10]\n",
      " [   0    1    9    0  893    6    6    9    8   13]\n",
      " [   8    2    6   36    0  805   35    3   59    7]\n",
      " [   3    3   12    1    9    9  891    0   10    0]\n",
      " [   2    1    5   10    1    3    2  895    5    9]\n",
      " [   1    7   35   11    8   21    1    2  802    5]\n",
      " [   0    0    8   11   60    7    0   72   17  949]]\n"
     ]
    }
   ],
   "source": [
    "print(confusionmatrix)"
   ]
  },
  {
   "cell_type": "code",
   "execution_count": 48,
   "metadata": {},
   "outputs": [
    {
     "data": {
      "text/plain": [
       "<matplotlib.image.AxesImage at 0x7fe4b85fa740>"
      ]
     },
     "execution_count": 48,
     "metadata": {},
     "output_type": "execute_result"
    },
    {
     "data": {
      "image/png": "[encoded data removed]",
      "text/plain": [
       "<Figure size 640x480 with 1 Axes>"
      ]
     },
     "metadata": {},
     "output_type": "display_data"
    }
   ],
   "source": [
    "plt.imshow(confusionmatrix)"
   ]
  },
  {
   "cell_type": "code",
   "execution_count": 49,
   "metadata": {},
   "outputs": [
    {
     "data": {
      "text/plain": [
       "0.912"
      ]
     },
     "execution_count": 49,
     "metadata": {},
     "output_type": "execute_result"
    }
   ],
   "source": [
    "# calculate the accuracy from the confusion matrix\n",
    "np.sum(confusionmatrix*np.identity(10))/np.sum(confusionmatrix)"
   ]
  },
  {
   "cell_type": "code",
   "execution_count": null,
   "metadata": {},
   "outputs": [],
   "source": []
  }
 ],
 "metadata": {
  "kernelspec": {
   "display_name": "Python 3 (ipykernel)",
   "language": "python",
   "name": "python3"
  },
  "language_info": {
   "codemirror_mode": {
    "name": "ipython",
    "version": 3
   },
   "file_extension": ".py",
   "mimetype": "text/x-python",
   "name": "python",
   "nbconvert_exporter": "python",
   "pygments_lexer": "ipython3",
   "version": "3.10.9"
  }
 },
 "nbformat": 4,
 "nbformat_minor": 2
}
